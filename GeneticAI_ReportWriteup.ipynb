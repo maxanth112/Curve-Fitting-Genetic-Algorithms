{
 "cells": [
  {
   "cell_type": "markdown",
   "metadata": {},
   "source": [
    "## Curve Fitting with Genetic Algorithms \n",
    "By Max Wiesner\n",
    "<br>\n",
    "<br>\n",
    "### Summary\n",
    "In this project we will look at how genetic algorithms can use evolutionary search to mutate a number of generations to find a regression curve estination. We will compare our results to the sumulated annealing algorithm, and look at the overall fitness acheived through both methods, and the run time differences between the two. \n",
    "<br>\n",
    "We will apply these tequniques to estimate the following five functions.\n",
    "<ul>\n",
    "    <li>$f_1 (x) = \\frac{1}{5}e^{\\frac{x}{4}} - \\sin{2x}$</li>\n",
    "    <li>$f_2 (x) = \\sin{2x} - \\cos{3x - 1} + 2\\sin{\\frac{x}{2} + 1}$</li>\n",
    "    <li>$f_3 (x) = e^{\\sin{2x} - e^{\\cos{3x}}}$</li>\n",
    "    <li>$f_4 (x) = \\frac{1}{20}x^2 - \\frac{1}{2}x + 5\\sin{3x}$</li>\n",
    "    <li>$f_5 (x) = \\frac{1}{20}x^2 - \\frac{1}{2}\\sqrt{x} + 5\\sin{3x}$</li>\n",
    "</ul>\n",
    "Performance will also be dependant on the different inputs to each algorithm we have manifest below. Note, the main focus of this project is the genetic algorithm and evolutionary search, not the sumulated annealing algorithm, thus, we will not go in depth on analyzing the changes in performance that come with varying the temperature, cooling rate, and cooling step fraction. Instead, we will vary two parameters that both these functions share (in a sense). \n",
    "<ul>\n",
    "    <li> Iterations - The number of iterations each algorithm will run, with the genetic algorithm this is the number of generations it will mutate and breed; with the simulated annealing, this is the number of times we pick a random neighbor that potentially replaced our current best answer.</li>\n",
    "    <li> Population - Population is the number of new candidates we produce or hold on to in each iteration. So, for the genetic algorithm, this is clearly the population; ie. in each iteration, we either update the current population, or we reorder it and reevaluate the current fitness of the population. For the simulated annealing, this is the number of new neighbors we produce from our current best state. </li>\n",
    "    <li><i>Optional Parameters</i> - The number of points we are estimating against, the total number of tests to be run for each function per each (Iterations, Instances) combination. We will not focus on these in the analysis. </li>\n",
    "<\\ul>\n",
    "Below we see the call to startAllIterations, it takes the following arguments:\n",
    "<div align=\"center\"><br>$startAllIterations(iterations, instances, points, numTests)$<br></div>\n",
    "    <br>\n",
    "The different combinations of iterations, population for each test and algorithm has already been picked out, and will be highlighted in the results summary below. The reason for the parameters below are for accomodating available CPU performance; ie. if you are confident in your super fast new MacBook Pro with the M1 chip, then put iterations = population = 1, 100%. This will run the intended amount of each combination. But if you are repping the google chromebook, then you may put iterations = population = .25, 25%. This will still run all of the intended combinations, but adjust the totals proportionally to the percentages entered, since running the full intended amount, 100%, might take some hours.  \n",
    "<br>\n",
    "<br>\n",
    "A progress bar will update as tests are completed. \n",
    "<br>\n",
    "<br>"
   ]
  },
  {
   "cell_type": "markdown",
   "metadata": {},
   "source": [
    "### Results"
   ]
  },
  {
   "cell_type": "code",
   "execution_count": 1,
   "metadata": {},
   "outputs": [
    {
     "name": "stdout",
     "output_type": "stream",
     "text": [
      "[[[], [], []], [[], [], []]]\n"
     ]
    },
    {
     "name": "stderr",
     "output_type": "stream",
     "text": [
      " 22%|██▏       | 33/150 [00:16<01:08,  1.70it/s]C:\\Users\\maxan\\CSCI\\CSCI_3202\\genetic_ai\\symbolicExpressions.py:176: RuntimeWarning: overflow encountered in double_scalars\n",
      "  return reduce(lambda a,b:a*b, flist, 1.0 )\n",
      "100%|██████████| 150/150 [01:02<00:00,  2.38it/s]\n"
     ]
    },
    {
     "name": "stdout",
     "output_type": "stream",
     "text": [
      "[[[-1476.3936666598556, -1049.393038392605, -1711.2977033374027, -1662.1801956129407, -1313.2059669447397], [-1642.5526059181873, -999.3414468404987, -2406.775152056534, -1656.4613723506131, -1292.9672056992622], [-2078.900865269703, -1916.815081663406, -1407.9914907255156, -1315.4255081645765, -1255.6794787667652]], [[-3631.6154660012216, -61559.85327243667, -2647.5297698362383, -4054.650352373279, -2162.7282720179232], [-34120.53733941512, -2671.980704780827, -2108.278268354253, -2208.679555764526, -4061.1204624180364], [-2716.521164187721, -2622.75304485425, -30665967.816589423, -3330.095569565814, -2433.2839864392145]]]\n",
      "\n",
      "\n"
     ]
    },
    {
     "data": {
      "text/html": [
       "<style  type=\"text/css\" >\n",
       "    #T_d979bfac_8745_11eb_b6bb_2816a86e46cb caption {\n",
       "          color: blue;\n",
       "          font-size: 18px;\n",
       "    }    #T_d979bfac_8745_11eb_b6bb_2816a86e46cbrow0_col0 {\n",
       "            background-color:  lightgreen;\n",
       "        }    #T_d979bfac_8745_11eb_b6bb_2816a86e46cbrow0_col2 {\n",
       "            background-color:  lightgreen;\n",
       "        }    #T_d979bfac_8745_11eb_b6bb_2816a86e46cbrow0_col4 {\n",
       "            background-color:  lightgreen;\n",
       "        }    #T_d979bfac_8745_11eb_b6bb_2816a86e46cbrow0_col5 {\n",
       "            background-color:  lightblue;\n",
       "        }    #T_d979bfac_8745_11eb_b6bb_2816a86e46cbrow0_col6 {\n",
       "            background-color:  lightblue;\n",
       "        }    #T_d979bfac_8745_11eb_b6bb_2816a86e46cbrow1_col1 {\n",
       "            background-color:  lightgreen;\n",
       "        }    #T_d979bfac_8745_11eb_b6bb_2816a86e46cbrow1_col3 {\n",
       "            background-color:  lightgreen;\n",
       "        }    #T_d979bfac_8745_11eb_b6bb_2816a86e46cbrow3_col0 {\n",
       "            background-color:  lightblue;\n",
       "        }    #T_d979bfac_8745_11eb_b6bb_2816a86e46cbrow3_col5 {\n",
       "            background-color:  #ffcccb;\n",
       "        }    #T_d979bfac_8745_11eb_b6bb_2816a86e46cbrow4_col2 {\n",
       "            background-color:  lightblue;\n",
       "        }    #T_d979bfac_8745_11eb_b6bb_2816a86e46cbrow4_col6 {\n",
       "            background-color:  #ffcccb;\n",
       "        }</style><table id=\"T_d979bfac_8745_11eb_b6bb_2816a86e46cb\" style='display:inline'><caption>Genetic Algorithm - Regression Estimation</caption><thead>    <tr>        <th class=\"blank level0\" ></th>        <th class=\"col_heading level0 col0\" >Function 1</th>        <th class=\"col_heading level0 col1\" >Function 2</th>        <th class=\"col_heading level0 col2\" >Function 3</th>        <th class=\"col_heading level0 col3\" >Function 4</th>        <th class=\"col_heading level0 col4\" >Function 5</th>        <th class=\"col_heading level0 col5\" >Fitness Avg by Criteria</th>        <th class=\"col_heading level0 col6\" >Run Time Avg by Criteria</th>    </tr>    <tr>        <th class=\"index_name level0\" >Criteria: Num of Iterations, Population Size</th>        <th class=\"blank\" ></th>        <th class=\"blank\" ></th>        <th class=\"blank\" ></th>        <th class=\"blank\" ></th>        <th class=\"blank\" ></th>        <th class=\"blank\" ></th>        <th class=\"blank\" ></th>    </tr></thead><tbody>\n",
       "                <tr>\n",
       "                        <th id=\"T_d979bfac_8745_11eb_b6bb_2816a86e46cblevel0_row0\" class=\"row_heading level0 row0\" >500, 2</th>\n",
       "                        <td id=\"T_d979bfac_8745_11eb_b6bb_2816a86e46cbrow0_col0\" class=\"data row0 col0\" >-7.22527</td>\n",
       "                        <td id=\"T_d979bfac_8745_11eb_b6bb_2816a86e46cbrow0_col1\" class=\"data row0 col1\" >-81.4651</td>\n",
       "                        <td id=\"T_d979bfac_8745_11eb_b6bb_2816a86e46cbrow0_col2\" class=\"data row0 col2\" >-30.3601</td>\n",
       "                        <td id=\"T_d979bfac_8745_11eb_b6bb_2816a86e46cbrow0_col3\" class=\"data row0 col3\" >-1049.39</td>\n",
       "                        <td id=\"T_d979bfac_8745_11eb_b6bb_2816a86e46cbrow0_col4\" class=\"data row0 col4\" >-330.63</td>\n",
       "                        <td id=\"T_d979bfac_8745_11eb_b6bb_2816a86e46cbrow0_col5\" class=\"data row0 col5\" >-299.815</td>\n",
       "                        <td id=\"T_d979bfac_8745_11eb_b6bb_2816a86e46cbrow0_col6\" class=\"data row0 col6\" >1.17765</td>\n",
       "            </tr>\n",
       "            <tr>\n",
       "                        <th id=\"T_d979bfac_8745_11eb_b6bb_2816a86e46cblevel0_row1\" class=\"row_heading level0 row1\" >250, 4</th>\n",
       "                        <td id=\"T_d979bfac_8745_11eb_b6bb_2816a86e46cbrow1_col0\" class=\"data row1 col0\" >-13.0103</td>\n",
       "                        <td id=\"T_d979bfac_8745_11eb_b6bb_2816a86e46cbrow1_col1\" class=\"data row1 col1\" >-79.7384</td>\n",
       "                        <td id=\"T_d979bfac_8745_11eb_b6bb_2816a86e46cbrow1_col2\" class=\"data row1 col2\" >-34.033</td>\n",
       "                        <td id=\"T_d979bfac_8745_11eb_b6bb_2816a86e46cbrow1_col3\" class=\"data row1 col3\" >-999.341</td>\n",
       "                        <td id=\"T_d979bfac_8745_11eb_b6bb_2816a86e46cbrow1_col4\" class=\"data row1 col4\" >-412.985</td>\n",
       "                        <td id=\"T_d979bfac_8745_11eb_b6bb_2816a86e46cbrow1_col5\" class=\"data row1 col5\" >-307.822</td>\n",
       "                        <td id=\"T_d979bfac_8745_11eb_b6bb_2816a86e46cbrow1_col6\" class=\"data row1 col6\" >0.737767</td>\n",
       "            </tr>\n",
       "            <tr>\n",
       "                        <th id=\"T_d979bfac_8745_11eb_b6bb_2816a86e46cblevel0_row2\" class=\"row_heading level0 row2\" >125, 8</th>\n",
       "                        <td id=\"T_d979bfac_8745_11eb_b6bb_2816a86e46cbrow2_col0\" class=\"data row2 col0\" >-11.7905</td>\n",
       "                        <td id=\"T_d979bfac_8745_11eb_b6bb_2816a86e46cbrow2_col1\" class=\"data row2 col1\" >-84.7094</td>\n",
       "                        <td id=\"T_d979bfac_8745_11eb_b6bb_2816a86e46cbrow2_col2\" class=\"data row2 col2\" >-38.8362</td>\n",
       "                        <td id=\"T_d979bfac_8745_11eb_b6bb_2816a86e46cbrow2_col3\" class=\"data row2 col3\" >-1255.68</td>\n",
       "                        <td id=\"T_d979bfac_8745_11eb_b6bb_2816a86e46cbrow2_col4\" class=\"data row2 col4\" >-346.877</td>\n",
       "                        <td id=\"T_d979bfac_8745_11eb_b6bb_2816a86e46cbrow2_col5\" class=\"data row2 col5\" >-347.579</td>\n",
       "                        <td id=\"T_d979bfac_8745_11eb_b6bb_2816a86e46cbrow2_col6\" class=\"data row2 col6\" >0.514628</td>\n",
       "            </tr>\n",
       "            <tr>\n",
       "                        <th id=\"T_d979bfac_8745_11eb_b6bb_2816a86e46cblevel0_row3\" class=\"row_heading level0 row3\" >Fitness Avg by Function</th>\n",
       "                        <td id=\"T_d979bfac_8745_11eb_b6bb_2816a86e46cbrow3_col0\" class=\"data row3 col0\" >-10.6754</td>\n",
       "                        <td id=\"T_d979bfac_8745_11eb_b6bb_2816a86e46cbrow3_col1\" class=\"data row3 col1\" >-81.971</td>\n",
       "                        <td id=\"T_d979bfac_8745_11eb_b6bb_2816a86e46cbrow3_col2\" class=\"data row3 col2\" >-34.4097</td>\n",
       "                        <td id=\"T_d979bfac_8745_11eb_b6bb_2816a86e46cbrow3_col3\" class=\"data row3 col3\" >-1101.47</td>\n",
       "                        <td id=\"T_d979bfac_8745_11eb_b6bb_2816a86e46cbrow3_col4\" class=\"data row3 col4\" >-363.497</td>\n",
       "                        <td id=\"T_d979bfac_8745_11eb_b6bb_2816a86e46cbrow3_col5\" class=\"data row3 col5\" >-318.405</td>\n",
       "                        <td id=\"T_d979bfac_8745_11eb_b6bb_2816a86e46cbrow3_col6\" class=\"data row3 col6\" >nan</td>\n",
       "            </tr>\n",
       "            <tr>\n",
       "                        <th id=\"T_d979bfac_8745_11eb_b6bb_2816a86e46cblevel0_row4\" class=\"row_heading level0 row4\" >Run Time Avg by Function</th>\n",
       "                        <td id=\"T_d979bfac_8745_11eb_b6bb_2816a86e46cbrow4_col0\" class=\"data row4 col0\" >0.788656</td>\n",
       "                        <td id=\"T_d979bfac_8745_11eb_b6bb_2816a86e46cbrow4_col1\" class=\"data row4 col1\" >0.89875</td>\n",
       "                        <td id=\"T_d979bfac_8745_11eb_b6bb_2816a86e46cbrow4_col2\" class=\"data row4 col2\" >0.948676</td>\n",
       "                        <td id=\"T_d979bfac_8745_11eb_b6bb_2816a86e46cbrow4_col3\" class=\"data row4 col3\" >0.915209</td>\n",
       "                        <td id=\"T_d979bfac_8745_11eb_b6bb_2816a86e46cbrow4_col4\" class=\"data row4 col4\" >0.498781</td>\n",
       "                        <td id=\"T_d979bfac_8745_11eb_b6bb_2816a86e46cbrow4_col5\" class=\"data row4 col5\" >nan</td>\n",
       "                        <td id=\"T_d979bfac_8745_11eb_b6bb_2816a86e46cbrow4_col6\" class=\"data row4 col6\" >0.810014</td>\n",
       "            </tr>\n",
       "    </tbody></table>"
      ],
      "text/plain": [
       "<pandas.io.formats.style.Styler at 0x2c3143cb688>"
      ]
     },
     "metadata": {},
     "output_type": "display_data"
    },
    {
     "name": "stdout",
     "output_type": "stream",
     "text": [
      "\n",
      "\n"
     ]
    },
    {
     "data": {
      "text/html": [
       "<style  type=\"text/css\" >\n",
       "    #T_d97f2fc8_8745_11eb_85b1_2816a86e46cb caption {\n",
       "          color: blue;\n",
       "          font-size: 18px;\n",
       "    }    #T_d97f2fc8_8745_11eb_85b1_2816a86e46cbrow0_col0 {\n",
       "            background-color:  lightgreen;\n",
       "        }    #T_d97f2fc8_8745_11eb_85b1_2816a86e46cbrow0_col6 {\n",
       "            background-color:  lightblue;\n",
       "        }    #T_d97f2fc8_8745_11eb_85b1_2816a86e46cbrow1_col3 {\n",
       "            background-color:  lightgreen;\n",
       "        }    #T_d97f2fc8_8745_11eb_85b1_2816a86e46cbrow1_col5 {\n",
       "            background-color:  lightblue;\n",
       "        }    #T_d97f2fc8_8745_11eb_85b1_2816a86e46cbrow2_col1 {\n",
       "            background-color:  lightgreen;\n",
       "        }    #T_d97f2fc8_8745_11eb_85b1_2816a86e46cbrow2_col2 {\n",
       "            background-color:  lightgreen;\n",
       "        }    #T_d97f2fc8_8745_11eb_85b1_2816a86e46cbrow2_col4 {\n",
       "            background-color:  lightgreen;\n",
       "        }    #T_d97f2fc8_8745_11eb_85b1_2816a86e46cbrow3_col0 {\n",
       "            background-color:  lightblue;\n",
       "        }    #T_d97f2fc8_8745_11eb_85b1_2816a86e46cbrow3_col5 {\n",
       "            background-color:  #ffcccb;\n",
       "        }    #T_d97f2fc8_8745_11eb_85b1_2816a86e46cbrow4_col3 {\n",
       "            background-color:  lightblue;\n",
       "        }    #T_d97f2fc8_8745_11eb_85b1_2816a86e46cbrow4_col6 {\n",
       "            background-color:  #ffcccb;\n",
       "        }</style><table id=\"T_d97f2fc8_8745_11eb_85b1_2816a86e46cb\" style='display:inline'><caption>Simulated Annealing Algorithm - Regression Estimation</caption><thead>    <tr>        <th class=\"blank level0\" ></th>        <th class=\"col_heading level0 col0\" >Function 1</th>        <th class=\"col_heading level0 col1\" >Function 2</th>        <th class=\"col_heading level0 col2\" >Function 3</th>        <th class=\"col_heading level0 col3\" >Function 4</th>        <th class=\"col_heading level0 col4\" >Function 5</th>        <th class=\"col_heading level0 col5\" >Fitness Avg by Criteria</th>        <th class=\"col_heading level0 col6\" >Run Time Avg by Criteria</th>    </tr>    <tr>        <th class=\"index_name level0\" >Criteria: Num of Iterations, Population Size</th>        <th class=\"blank\" ></th>        <th class=\"blank\" ></th>        <th class=\"blank\" ></th>        <th class=\"blank\" ></th>        <th class=\"blank\" ></th>        <th class=\"blank\" ></th>        <th class=\"blank\" ></th>    </tr></thead><tbody>\n",
       "                <tr>\n",
       "                        <th id=\"T_d97f2fc8_8745_11eb_85b1_2816a86e46cblevel0_row0\" class=\"row_heading level0 row0\" >500, 2</th>\n",
       "                        <td id=\"T_d97f2fc8_8745_11eb_85b1_2816a86e46cbrow0_col0\" class=\"data row0 col0\" >-12.2269</td>\n",
       "                        <td id=\"T_d97f2fc8_8745_11eb_85b1_2816a86e46cbrow0_col1\" class=\"data row0 col1\" >-173.634</td>\n",
       "                        <td id=\"T_d97f2fc8_8745_11eb_85b1_2816a86e46cbrow0_col2\" class=\"data row0 col2\" >-81.7114</td>\n",
       "                        <td id=\"T_d97f2fc8_8745_11eb_85b1_2816a86e46cbrow0_col3\" class=\"data row0 col3\" >-2162.73</td>\n",
       "                        <td id=\"T_d97f2fc8_8745_11eb_85b1_2816a86e46cbrow0_col4\" class=\"data row0 col4\" >-748.542</td>\n",
       "                        <td id=\"T_d97f2fc8_8745_11eb_85b1_2816a86e46cbrow0_col5\" class=\"data row0 col5\" >-635.768</td>\n",
       "                        <td id=\"T_d97f2fc8_8745_11eb_85b1_2816a86e46cbrow0_col6\" class=\"data row0 col6\" >0.0274941</td>\n",
       "            </tr>\n",
       "            <tr>\n",
       "                        <th id=\"T_d97f2fc8_8745_11eb_85b1_2816a86e46cblevel0_row1\" class=\"row_heading level0 row1\" >250, 4</th>\n",
       "                        <td id=\"T_d97f2fc8_8745_11eb_85b1_2816a86e46cbrow1_col0\" class=\"data row1 col0\" >-19.186</td>\n",
       "                        <td id=\"T_d97f2fc8_8745_11eb_85b1_2816a86e46cbrow1_col1\" class=\"data row1 col1\" >-142.626</td>\n",
       "                        <td id=\"T_d97f2fc8_8745_11eb_85b1_2816a86e46cbrow1_col2\" class=\"data row1 col2\" >-80.7691</td>\n",
       "                        <td id=\"T_d97f2fc8_8745_11eb_85b1_2816a86e46cbrow1_col3\" class=\"data row1 col3\" >-2108.28</td>\n",
       "                        <td id=\"T_d97f2fc8_8745_11eb_85b1_2816a86e46cbrow1_col4\" class=\"data row1 col4\" >-675.137</td>\n",
       "                        <td id=\"T_d97f2fc8_8745_11eb_85b1_2816a86e46cbrow1_col5\" class=\"data row1 col5\" >-605.199</td>\n",
       "                        <td id=\"T_d97f2fc8_8745_11eb_85b1_2816a86e46cbrow1_col6\" class=\"data row1 col6\" >0.0259094</td>\n",
       "            </tr>\n",
       "            <tr>\n",
       "                        <th id=\"T_d97f2fc8_8745_11eb_85b1_2816a86e46cblevel0_row2\" class=\"row_heading level0 row2\" >125, 8</th>\n",
       "                        <td id=\"T_d97f2fc8_8745_11eb_85b1_2816a86e46cbrow2_col0\" class=\"data row2 col0\" >-17.3166</td>\n",
       "                        <td id=\"T_d97f2fc8_8745_11eb_85b1_2816a86e46cbrow2_col1\" class=\"data row2 col1\" >-137.952</td>\n",
       "                        <td id=\"T_d97f2fc8_8745_11eb_85b1_2816a86e46cbrow2_col2\" class=\"data row2 col2\" >-80.4192</td>\n",
       "                        <td id=\"T_d97f2fc8_8745_11eb_85b1_2816a86e46cbrow2_col3\" class=\"data row2 col3\" >-2433.28</td>\n",
       "                        <td id=\"T_d97f2fc8_8745_11eb_85b1_2816a86e46cbrow2_col4\" class=\"data row2 col4\" >-418.296</td>\n",
       "                        <td id=\"T_d97f2fc8_8745_11eb_85b1_2816a86e46cbrow2_col5\" class=\"data row2 col5\" >-617.454</td>\n",
       "                        <td id=\"T_d97f2fc8_8745_11eb_85b1_2816a86e46cbrow2_col6\" class=\"data row2 col6\" >0.0240915</td>\n",
       "            </tr>\n",
       "            <tr>\n",
       "                        <th id=\"T_d97f2fc8_8745_11eb_85b1_2816a86e46cblevel0_row3\" class=\"row_heading level0 row3\" >Fitness Avg by Function</th>\n",
       "                        <td id=\"T_d97f2fc8_8745_11eb_85b1_2816a86e46cbrow3_col0\" class=\"data row3 col0\" >-16.2432</td>\n",
       "                        <td id=\"T_d97f2fc8_8745_11eb_85b1_2816a86e46cbrow3_col1\" class=\"data row3 col1\" >-151.404</td>\n",
       "                        <td id=\"T_d97f2fc8_8745_11eb_85b1_2816a86e46cbrow3_col2\" class=\"data row3 col2\" >-80.9666</td>\n",
       "                        <td id=\"T_d97f2fc8_8745_11eb_85b1_2816a86e46cbrow3_col3\" class=\"data row3 col3\" >-2234.76</td>\n",
       "                        <td id=\"T_d97f2fc8_8745_11eb_85b1_2816a86e46cbrow3_col4\" class=\"data row3 col4\" >-613.992</td>\n",
       "                        <td id=\"T_d97f2fc8_8745_11eb_85b1_2816a86e46cbrow3_col5\" class=\"data row3 col5\" >-619.474</td>\n",
       "                        <td id=\"T_d97f2fc8_8745_11eb_85b1_2816a86e46cbrow3_col6\" class=\"data row3 col6\" >nan</td>\n",
       "            </tr>\n",
       "            <tr>\n",
       "                        <th id=\"T_d97f2fc8_8745_11eb_85b1_2816a86e46cblevel0_row4\" class=\"row_heading level0 row4\" >Run Time Avg by Function</th>\n",
       "                        <td id=\"T_d97f2fc8_8745_11eb_85b1_2816a86e46cbrow4_col0\" class=\"data row4 col0\" >0.0236654</td>\n",
       "                        <td id=\"T_d97f2fc8_8745_11eb_85b1_2816a86e46cbrow4_col1\" class=\"data row4 col1\" >0.0161977</td>\n",
       "                        <td id=\"T_d97f2fc8_8745_11eb_85b1_2816a86e46cbrow4_col2\" class=\"data row4 col2\" >0.0276712</td>\n",
       "                        <td id=\"T_d97f2fc8_8745_11eb_85b1_2816a86e46cbrow4_col3\" class=\"data row4 col3\" >0.0329426</td>\n",
       "                        <td id=\"T_d97f2fc8_8745_11eb_85b1_2816a86e46cbrow4_col4\" class=\"data row4 col4\" >0.0286816</td>\n",
       "                        <td id=\"T_d97f2fc8_8745_11eb_85b1_2816a86e46cbrow4_col5\" class=\"data row4 col5\" >nan</td>\n",
       "                        <td id=\"T_d97f2fc8_8745_11eb_85b1_2816a86e46cbrow4_col6\" class=\"data row4 col6\" >0.0258317</td>\n",
       "            </tr>\n",
       "    </tbody></table>"
      ],
      "text/plain": [
       "<pandas.io.formats.style.Styler at 0x2c31467c908>"
      ]
     },
     "metadata": {},
     "output_type": "display_data"
    }
   ],
   "source": [
    "%matplotlib inline\n",
    "from generatePlots import startAllIterations, printVizs\n",
    "\n",
    "iterations = 0.05 # optimal : 1, otherwise : must be at least 5% to avoid Null equations \n",
    "population = 0.05 # optimal : 1, otherwise : must be at least 5% to avoid Null equations\n",
    "num_points = 0.5 # optimal : 1\n",
    "num_tests = 5 # optimal : 5\n",
    "startAllIterations(iterations, population, num_points, num_tests)\n",
    "printVizs()"
   ]
  },
  {
   "cell_type": "markdown",
   "metadata": {},
   "source": [
    "#### Data Table Details\n",
    "> <span style=\"color:lightgreen\">Green : </span> Best fitness per column - Function, cooresponding to the index column of iterations, population<br>\n",
    "> <span style=\"color:lightblue\">Blue : </span> Overall best performance - Highlights the column and row best performances on average.<br>\n",
    "> <span style=\"color:#ffcccb\">Red </span> Benchmark KPI for each algorithm - Shows the average fitness acheived from the overall tests with the ranging criteria. Ans the overall runtime per test against the ranging average inputs. "
   ]
  },
  {
   "cell_type": "code",
   "execution_count": 2,
   "metadata": {},
   "outputs": [
    {
     "name": "stdout",
     "output_type": "stream",
     "text": [
      "\n",
      "\n"
     ]
    },
    {
     "data": {
      "text/html": [
       "<div>\n",
       "<style scoped>\n",
       "    .dataframe tbody tr th:only-of-type {\n",
       "        vertical-align: middle;\n",
       "    }\n",
       "\n",
       "    .dataframe tbody tr th {\n",
       "        vertical-align: top;\n",
       "    }\n",
       "\n",
       "    .dataframe thead th {\n",
       "        text-align: right;\n",
       "    }\n",
       "</style>\n",
       "<table border=\"1\" class=\"dataframe\">\n",
       "  <thead>\n",
       "    <tr style=\"text-align: right;\">\n",
       "      <th></th>\n",
       "      <th>Test 1</th>\n",
       "      <th>Test 2</th>\n",
       "      <th>Test 3</th>\n",
       "      <th>Test 4</th>\n",
       "      <th>Test 5</th>\n",
       "      <th>Mean</th>\n",
       "      <th>Std Dev</th>\n",
       "      <th>Variance</th>\n",
       "    </tr>\n",
       "    <tr>\n",
       "      <th>Criteria: Num of Iterations, Population Size</th>\n",
       "      <th></th>\n",
       "      <th></th>\n",
       "      <th></th>\n",
       "      <th></th>\n",
       "      <th></th>\n",
       "      <th></th>\n",
       "      <th></th>\n",
       "      <th></th>\n",
       "    </tr>\n",
       "  </thead>\n",
       "  <tbody>\n",
       "    <tr>\n",
       "      <td>500, 2</td>\n",
       "      <td>-1,476.394</td>\n",
       "      <td>-1,049.393</td>\n",
       "      <td>-1,711.298</td>\n",
       "      <td>-1,662.180</td>\n",
       "      <td>-1,313.206</td>\n",
       "      <td>-1,442.494</td>\n",
       "      <td>242.037</td>\n",
       "      <td>454,196.439</td>\n",
       "    </tr>\n",
       "    <tr>\n",
       "      <td>250, 4</td>\n",
       "      <td>-1,642.553</td>\n",
       "      <td>-999.341</td>\n",
       "      <td>-2,406.775</td>\n",
       "      <td>-1,656.461</td>\n",
       "      <td>-1,292.967</td>\n",
       "      <td>-1,599.620</td>\n",
       "      <td>471.369</td>\n",
       "      <td>797,870.708</td>\n",
       "    </tr>\n",
       "    <tr>\n",
       "      <td>125, 8</td>\n",
       "      <td>-2,078.901</td>\n",
       "      <td>-1,916.815</td>\n",
       "      <td>-1,407.991</td>\n",
       "      <td>-1,315.426</td>\n",
       "      <td>-1,255.679</td>\n",
       "      <td>-1,594.962</td>\n",
       "      <td>336.451</td>\n",
       "      <td>627,241.388</td>\n",
       "    </tr>\n",
       "  </tbody>\n",
       "</table>\n",
       "</div>"
      ],
      "text/plain": [
       "                                                 Test 1     Test 2     Test 3  \\\n",
       "Criteria: Num of Iterations, Population Size                                    \n",
       "500, 2                                       -1,476.394 -1,049.393 -1,711.298   \n",
       "250, 4                                       -1,642.553   -999.341 -2,406.775   \n",
       "125, 8                                       -2,078.901 -1,916.815 -1,407.991   \n",
       "\n",
       "                                                 Test 4     Test 5       Mean  \\\n",
       "Criteria: Num of Iterations, Population Size                                    \n",
       "500, 2                                       -1,662.180 -1,313.206 -1,442.494   \n",
       "250, 4                                       -1,656.461 -1,292.967 -1,599.620   \n",
       "125, 8                                       -1,315.426 -1,255.679 -1,594.962   \n",
       "\n",
       "                                              Std Dev    Variance  \n",
       "Criteria: Num of Iterations, Population Size                       \n",
       "500, 2                                        242.037 454,196.439  \n",
       "250, 4                                        471.369 797,870.708  \n",
       "125, 8                                        336.451 627,241.388  "
      ]
     },
     "metadata": {},
     "output_type": "display_data"
    },
    {
     "name": "stdout",
     "output_type": "stream",
     "text": [
      "\n",
      "\n"
     ]
    },
    {
     "data": {
      "text/html": [
       "<div>\n",
       "<style scoped>\n",
       "    .dataframe tbody tr th:only-of-type {\n",
       "        vertical-align: middle;\n",
       "    }\n",
       "\n",
       "    .dataframe tbody tr th {\n",
       "        vertical-align: top;\n",
       "    }\n",
       "\n",
       "    .dataframe thead th {\n",
       "        text-align: right;\n",
       "    }\n",
       "</style>\n",
       "<table border=\"1\" class=\"dataframe\">\n",
       "  <thead>\n",
       "    <tr style=\"text-align: right;\">\n",
       "      <th></th>\n",
       "      <th>Test 1</th>\n",
       "      <th>Test 2</th>\n",
       "      <th>Test 3</th>\n",
       "      <th>Test 4</th>\n",
       "      <th>Test 5</th>\n",
       "      <th>Mean</th>\n",
       "      <th>Std Dev</th>\n",
       "      <th>Variance</th>\n",
       "    </tr>\n",
       "    <tr>\n",
       "      <th>Criteria: Num of Iterations, Population Size</th>\n",
       "      <th></th>\n",
       "      <th></th>\n",
       "      <th></th>\n",
       "      <th></th>\n",
       "      <th></th>\n",
       "      <th></th>\n",
       "      <th></th>\n",
       "      <th></th>\n",
       "    </tr>\n",
       "  </thead>\n",
       "  <tbody>\n",
       "    <tr>\n",
       "      <td>500, 2</td>\n",
       "      <td>-1,476.394</td>\n",
       "      <td>-1,049.393</td>\n",
       "      <td>-1,711.298</td>\n",
       "      <td>-1,662.180</td>\n",
       "      <td>-1,313.206</td>\n",
       "      <td>-1,442.494</td>\n",
       "      <td>242.037</td>\n",
       "      <td>454,196.439</td>\n",
       "    </tr>\n",
       "    <tr>\n",
       "      <td>250, 4</td>\n",
       "      <td>-1,642.553</td>\n",
       "      <td>-999.341</td>\n",
       "      <td>-2,406.775</td>\n",
       "      <td>-1,656.461</td>\n",
       "      <td>-1,292.967</td>\n",
       "      <td>-1,599.620</td>\n",
       "      <td>471.369</td>\n",
       "      <td>797,870.708</td>\n",
       "    </tr>\n",
       "    <tr>\n",
       "      <td>125, 8</td>\n",
       "      <td>-2,078.901</td>\n",
       "      <td>-1,916.815</td>\n",
       "      <td>-1,407.991</td>\n",
       "      <td>-1,315.426</td>\n",
       "      <td>-1,255.679</td>\n",
       "      <td>-1,594.962</td>\n",
       "      <td>336.451</td>\n",
       "      <td>627,241.388</td>\n",
       "    </tr>\n",
       "  </tbody>\n",
       "</table>\n",
       "</div>"
      ],
      "text/plain": [
       "                                                 Test 1     Test 2     Test 3  \\\n",
       "Criteria: Num of Iterations, Population Size                                    \n",
       "500, 2                                       -1,476.394 -1,049.393 -1,711.298   \n",
       "250, 4                                       -1,642.553   -999.341 -2,406.775   \n",
       "125, 8                                       -2,078.901 -1,916.815 -1,407.991   \n",
       "\n",
       "                                                 Test 4     Test 5       Mean  \\\n",
       "Criteria: Num of Iterations, Population Size                                    \n",
       "500, 2                                       -1,662.180 -1,313.206 -1,442.494   \n",
       "250, 4                                       -1,656.461 -1,292.967 -1,599.620   \n",
       "125, 8                                       -1,315.426 -1,255.679 -1,594.962   \n",
       "\n",
       "                                              Std Dev    Variance  \n",
       "Criteria: Num of Iterations, Population Size                       \n",
       "500, 2                                        242.037 454,196.439  \n",
       "250, 4                                        471.369 797,870.708  \n",
       "125, 8                                        336.451 627,241.388  "
      ]
     },
     "metadata": {},
     "output_type": "display_data"
    }
   ],
   "source": [
    "if num_tests == 5:\n",
    "    printVizs(1)"
   ]
  },
  {
   "cell_type": "markdown",
   "metadata": {},
   "source": [
    "Write a brief analysis of your results. Some questions to answer:\n",
    "- Which problem ran the fastest? Why do you think this is the case?\n",
    "- Which problem ended with the highest fitness? Why do you think this is the case?\n",
    "- How similar were the running times across the 5 repetitions?\n",
    "- How similar were the final fitness scores across the 5 repetitions?\n",
    "- Was there anything else interesting in your results?"
   ]
  },
  {
   "cell_type": "markdown",
   "metadata": {},
   "source": [
    "`Your answer here.`"
   ]
  },
  {
   "cell_type": "markdown",
   "metadata": {},
   "source": [
    "## Describe Your Implementation and Reflect"
   ]
  },
  {
   "cell_type": "markdown",
   "metadata": {},
   "source": [
    "Some questions to answer in your write-up:\n",
    "- What was your strategy to solve this problem?\n",
    "- How did you structure your `GASolver` class?\n",
    "- What other files or methods did you change?\n",
    "- What was the most difficult part of the project?\n",
    "- What was something surprising you found?\n",
    "\n",
    "Please provide some elaboration with your answers. When describing your implementation, remember that we have not watched you solve this problem so you will need to give more details than you think is necessary."
   ]
  },
  {
   "cell_type": "markdown",
   "metadata": {},
   "source": [
    "### Implementation\n",
    "The strategy for this algorithm was "
   ]
  },
  {
   "cell_type": "markdown",
   "metadata": {},
   "source": [
    "## Going Above and Beyond"
   ]
  },
  {
   "cell_type": "markdown",
   "metadata": {},
   "source": [
    "Describe the extra changes you implemented. Give some details, perhaps a short paragraph for each major change."
   ]
  },
  {
   "cell_type": "markdown",
   "metadata": {},
   "source": [
    "`Your answer here.`"
   ]
  },
  {
   "cell_type": "markdown",
   "metadata": {},
   "source": [
    "Describe the analysis you did and provide your results in the form of a figure or a table."
   ]
  },
  {
   "cell_type": "markdown",
   "metadata": {},
   "source": [
    "`Your answer here.`"
   ]
  },
  {
   "cell_type": "markdown",
   "metadata": {},
   "source": [
    "Reflect on your work for this section. What was interesting, or what did you learn? A short paragraph here is fine."
   ]
  },
  {
   "cell_type": "markdown",
   "metadata": {},
   "source": [
    "`Your answer here.`"
   ]
  }
 ],
 "metadata": {
  "kernelspec": {
   "display_name": "Python 3",
   "language": "python",
   "name": "python3"
  },
  "language_info": {
   "codemirror_mode": {
    "name": "ipython",
    "version": 3
   },
   "file_extension": ".py",
   "mimetype": "text/x-python",
   "name": "python",
   "nbconvert_exporter": "python",
   "pygments_lexer": "ipython3",
   "version": "3.7.4"
  }
 },
 "nbformat": 4,
 "nbformat_minor": 5
}
