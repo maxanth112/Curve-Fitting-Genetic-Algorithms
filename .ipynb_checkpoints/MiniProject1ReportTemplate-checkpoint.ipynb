{
 "cells": [
  {
   "cell_type": "markdown",
   "metadata": {},
   "source": [
    "# Genetic Algorithms vs. Sumulated Annealing \n",
    "### Regression Approximation"
   ]
  },
  {
   "cell_type": "markdown",
   "metadata": {},
   "source": [
    "By Max Wiesner"
   ]
  },
  {
   "cell_type": "code",
   "execution_count": 1,
   "metadata": {},
   "outputs": [
    {
     "name": "stderr",
     "output_type": "stream",
     "text": [
      "100%|██████████| 90/90 [00:42<00:00,  2.13it/s]\n"
     ]
    }
   ],
   "source": [
    "%matplotlib inline\n",
    "import numpy as np\n",
    "from tqdm import tqdm\n",
    "from curveFitting import one_dimensional_curve_fitting_test\n",
    "from matplotlib import pyplot as plt\n",
    "from IPython.display import display, HTML\n",
    "import pprint\n",
    "import pandas as pd\n",
    "import math\n",
    "\n",
    "tests = [\n",
    "    [lambda x: 0.2*math.exp(x/4.0) -  math.sin(2*x), (-10.0, 10.0), 25],\n",
    "    [lambda x: math.sin(2*x) - math.cos(3*x-1) + 2*math.sin(x/2+1.0), (-15.0, 15.0), 60],\n",
    "    [lambda x: math.exp(math.sin(2*x)) - math.exp(math.cos(3*x)), (-15.0, 15.0), 60],\n",
    "    [lambda x: 0.05*x**2 - 0.5*x + 5.0 * math.sin(3*x) , (-15.0, 15.0), 60],\n",
    "    [lambda x: 0.05*x**2 - 0.5*math.sqrt(x) + 5.0 * math.sin(3*x) , (0.0, 15.0), 30]\n",
    "]\n",
    "\n",
    "each_test = 3\n",
    "i_std = 4 # 100\n",
    "p_std = 1  # 10\n",
    "n_std = 10 # 100\n",
    "GA_criteria = np.array([[i_std*10, p_std*4, n_std*1], \n",
    "                        [i_std*5, p_std*8, n_std*1], \n",
    "                        [i_std*2.5, p_std*16, n_std*1]]).astype(int)\n",
    "SA_criteria = np.array([[i_std*100, p_std*4, n_std*1],\n",
    "                        [i_std*50, p_std*8, n_std*1],\n",
    "                        [i_std*25, p_std*16, n_std*1]]).astype(int)\n",
    "\n",
    "test_instances = [{'results': [[-float('inf')]*5 for i in range(3)],\n",
    "                   'all': [[0]*5 for i in range(3)],\n",
    "                   'conditions': criteria} for criteria in [GA_criteria, SA_criteria]]\n",
    "\n",
    "with tqdm(total = each_test*len(GA_criteria)*len(test_instances)*len(tests)) as pbar:\n",
    "    for iteration in range(each_test):\n",
    "        for curr_algorithm_index in range(len(test_instances)):\n",
    "            for curr_condition_index in range(len(test_instances[curr_algorithm_index]['conditions'])):\n",
    "                for curr_test_index in range(len(tests)):\n",
    "                    all_data_results = one_dimensional_curve_fitting_test(tests[curr_test_index][0], \n",
    "                        tests[curr_test_index][1], \n",
    "                        tests[curr_test_index][2], \n",
    "                        test_instances[curr_algorithm_index]['conditions'][curr_condition_index][0],\n",
    "                        test_instances[curr_algorithm_index]['conditions'][curr_condition_index][1], \n",
    "                        test_instances[curr_algorithm_index]['conditions'][curr_condition_index][2],\n",
    "                        'ga' if curr_algorithm_index == 0 else 'sa')\n",
    "                    \n",
    "                    if all_data_results[1] > test_instances[curr_algorithm_index]['results'][curr_condition_index][curr_test_index]:\n",
    "                        test_instances[curr_algorithm_index]['results'][curr_condition_index][curr_test_index] = all_data_results[1]\n",
    "                        test_instances[curr_algorithm_index]['all'][curr_condition_index][curr_test_index] = all_data_results\n",
    "                    pbar.update(1)"
   ]
  },
  {
   "cell_type": "code",
   "execution_count": 4,
   "metadata": {},
   "outputs": [],
   "source": [
    "names = ['Genetic Algorithm', 'Simulated Annealing Algorithm']\n",
    "plot_printout_indexs = []\n",
    "\n",
    "css = \"\"\"\n",
    ".output {\n",
    "    flex-direction: row;\n",
    "}\n",
    "\"\"\"\n",
    "HTML('<style>{}</style>'.format(css))\n",
    "\n",
    "title_specs = {\n",
    "    'selector': 'caption',\n",
    "    'props': [\n",
    "        ('color', 'blue'),\n",
    "        ('font-size', '18px')\n",
    "    ]\n",
    "}\n",
    "\n",
    "\n",
    "def highlight_last_max(data, colormax='antiquewhite', colormaxlast='lightgreen'):\n",
    "\n",
    "    colormax_attr = f'background-color: {colormax}'\n",
    "    colormaxlast_attr = f'background-color: {colormaxlast}'\n",
    "    max_value = data.max()\n",
    "    is_max = [colormax_attr if v == max_value else '' for v in data]\n",
    "    is_max[len(data) - list(reversed(data)).index(max_value) -  1] = colormaxlast_attr\n",
    "    return is_max\n",
    "\n",
    "\n",
    "def highlight_max_save(data, colormax='antiquewhite', colormaxlast='lightgreen', index = 0):\n",
    "    \n",
    "    is_max = [1 if v == data.max() else 0 for v in data]\n",
    "    max_index_x = is_max.index(max(is_max))\n",
    "    max_contendors = [test_instances[index]['results'][i][max_index_x] for i in range(3)]\n",
    "    max_index_y = max_contendors.index(max(max_contendors))\n",
    "    \n",
    "    plot_printout_indexs.append([index, max_index_x, max_index_y])\n",
    "    \n",
    "    return highlight_last_max(data, colormax, colormaxlast)\n",
    "    \n",
    "    \n",
    "def create_data_frames():\n",
    "    dfs = [None]*2\n",
    "     \n",
    "    for ind in range(len(names)):\n",
    "        df = pd.DataFrame(np.array( [[test_instances[ind]['results'][i][j] for j in range(5)] for i in range(3)]), index = [f'{crit[0]}, {crit[1]}' for crit in GA_criteria], \n",
    "                                   columns = [f'Function {i}' for i in range(1, 6)])\n",
    "        df.style.set_table_attributes(\"style='display:inline'\").set_caption(f'{names[ind]} - Regression Estimation')\n",
    "        df.loc['Fitness Avg by Function']= df.mean(numeric_only=True, axis=0)\n",
    "        df.loc[:,'Fitness Avg by Criteria'] = df.mean(numeric_only=True, axis=1)\n",
    "        pd.options.display.float_format = '{:,.3f}'.format        \n",
    "        df = df.rename_axis('Criteria: Num of Iterations, Population Size')\n",
    "        \n",
    "        df['Run Time Avg by Criteria'] = [np.mean([test_instances[ind]['all'][i][j][3] for j in range(5)]) for i in range(3)] + [None]\n",
    "        df.loc['Run Time Avg by Function'] = [np.mean([test_instances[ind]['all'][i][j][3] for i in range(3)]) for j in range(5)] + \\\n",
    "            [None, np.mean([np.mean([test_instances[ind]['all'][i][j][3] for i in range(3)]) for j in range(5)])]\n",
    "        \n",
    "        df = df.style.apply(highlight_last_max, subset = pd.IndexSlice[[f'{crit[0]}, {crit[1]}' for crit in GA_criteria], [f'Function {i}' for i in range(1, 6)]], axis = 0) \\\n",
    "            .set_table_attributes(\"style='display:inline'\") \\\n",
    "            .set_caption(f'{names[ind]} - Regression Estimation') \\\n",
    "            .set_table_styles([title_specs]) \\\n",
    "            .apply(highlight_max_save, subset = pd.IndexSlice[\"Fitness Avg by Function\", \\\n",
    "                                            [f'Function {i}' for i in range(1, 6)]], axis = 1, colormaxlast = 'lightblue', index = ind) \\\n",
    "            .apply(highlight_last_max, subset = pd.IndexSlice[\"Run Time Avg by Function\", \\\n",
    "                                            [f'Function {i}' for i in range(1, 6)]], axis = 1, colormaxlast = 'lightblue') \\\n",
    "            .apply(highlight_last_max, subset = pd.IndexSlice[ [f'{crit[0]}, {crit[1]}' for crit in GA_criteria], \\\n",
    "                                            ['Fitness Avg by Criteria', 'Run Time Avg by Criteria']], axis = 0, colormaxlast = 'lightblue') \\\n",
    "            .apply(highlight_last_max, subset = pd.IndexSlice[\"Fitness Avg by Function\", ['Fitness Avg by Criteria']], axis = 0, colormaxlast = '#ffcccb')  \\\n",
    "            .apply(highlight_last_max, subset = pd.IndexSlice[\"Run Time Avg by Function\", ['Run Time Avg by Criteria']], axis = 0, colormaxlast = '#ffcccb')  \n",
    "        dfs[ind] = df\n",
    "        \n",
    "    return dfs\n",
    "dfs = create_data_frames()"
   ]
  },
  {
   "cell_type": "code",
   "execution_count": 10,
   "metadata": {},
   "outputs": [
    {
     "name": "stdout",
     "output_type": "stream",
     "text": [
      "[]\n"
     ]
    }
   ],
   "source": [
    "\n",
    "print(plot_printout_indexs)\n",
    "for plot in plot_printout_indexs:\n",
    "    \n",
    "    data = test_instances[plot[0]]['all'][plot[2]][plot[1]][4].regression_training_data\n",
    "    test_points = test_instances[plot[0]]['all'][plot[2]][plot[1]][4].test_points\n",
    "    best_expr = test_instances[plot[0]][\"all\"][plot[2]][plot[1]][0]\n",
    "    stats = test_instances[plot[0]][\"all\"][plot[2]][plot[1]][2]\n",
    "    print(test_points)\n",
    "    print(best_expr)\n",
    "    print(data)\n",
    "    print(stats)\n",
    "    print(f'\\n\\n\\nBest Performing Funciton with the {names[plot[0]]} was Function {plot[1]}. \\nThe cooresponding function was: {best_expr}')\n",
    "    \n",
    "    plt.figure(1)\n",
    "    x_values = [x_value for ([x_value], _) in data]\n",
    "    plt.plot(x_values, [y for (_,y) in data],'x')\n",
    "    test_xvalues = sorted([x for [x] in test_points])\n",
    "    result = [best_expr.eval({'x':x_value}) for x_value in test_xvalues ]\n",
    "    gTruth = [lambda_fun(x_value) for x_value in test_xvalues ]\n",
    "    plt.plot(test_xvalues, result, 'r-',label='ga_fit')\n",
    "    plt.plot(test_xvalues, gTruth, 'g-', label='ground-truth')\n",
    "    plt.legend()\n",
    "    plt.xlabel('x')\n",
    "    plt.ylabel('y')\n",
    "    plt.figure(2)\n",
    "    plt.plot(range(len(stats)), [st for st in stats], 'b-')\n",
    "    plt.xlabel('Iters')\n",
    "    plt.ylabel('Max Fitness')\n",
    "    plt.plot(range(len(stats)), [(st[1] if st[1] > -100 else -100) for st in stats], 'r--')\n",
    "    plt.show()\n",
    "\n",
    "# print(test_instances[1]['all'][1][0][0])\n",
    "# print(test_instances[1]['all'][1][0][1])\n",
    "# print(test_instances[1]['all'][1][0][4].test_points)\n",
    "# print(test_instances[1]['all'][1][0][4].regression_training_data)\n",
    "\n",
    "# print('\\n')\n",
    "# pp = pprint.PrettyPrinter(indent=4)\n",
    "# pp.pprint(test_instances)\n",
    "\n",
    "# print('\\n')\n",
    "# display(dfs[0])\n",
    "# print('\\n\\n')\n",
    "# display(dfs[1])\n",
    "# print('\\n')"
   ]
  },
  {
   "cell_type": "markdown",
   "metadata": {},
   "source": [
    "Write a brief analysis of your results. Some questions to answer:\n",
    "- Which problem ran the fastest? Why do you think this is the case?\n",
    "- Which problem ended with the highest fitness? Why do you think this is the case?\n",
    "- How similar were the running times across the 5 repetitions?\n",
    "- How similar were the final fitness scores across the 5 repetitions?\n",
    "- Was there anything else interesting in your results?"
   ]
  },
  {
   "cell_type": "markdown",
   "metadata": {},
   "source": [
    "`Your answer here.`"
   ]
  },
  {
   "cell_type": "markdown",
   "metadata": {},
   "source": [
    "## Describe Your Implementation and Reflect"
   ]
  },
  {
   "cell_type": "markdown",
   "metadata": {},
   "source": [
    "Some questions to answer in your write-up:\n",
    "- What was your strategy to solve this problem?\n",
    "- How did you structure your `GASolver` class?\n",
    "- What other files or methods did you change?\n",
    "- What was the most difficult part of the project?\n",
    "- What was something surprising you found?\n",
    "\n",
    "Please provide some elaboration with your answers. When describing your implementation, remember that we have not watched you solve this problem so you will need to give more details than you think is necessary."
   ]
  },
  {
   "cell_type": "markdown",
   "metadata": {},
   "source": [
    "`Your answer here.`"
   ]
  },
  {
   "cell_type": "markdown",
   "metadata": {},
   "source": [
    "## Going Above and Beyond"
   ]
  },
  {
   "cell_type": "markdown",
   "metadata": {},
   "source": [
    "Describe the extra changes you implemented. Give some details, perhaps a short paragraph for each major change."
   ]
  },
  {
   "cell_type": "markdown",
   "metadata": {},
   "source": [
    "`Your answer here.`"
   ]
  },
  {
   "cell_type": "markdown",
   "metadata": {},
   "source": [
    "Describe the analysis you did and provide your results in the form of a figure or a table."
   ]
  },
  {
   "cell_type": "markdown",
   "metadata": {},
   "source": [
    "`Your answer here.`"
   ]
  },
  {
   "cell_type": "markdown",
   "metadata": {},
   "source": [
    "Reflect on your work for this section. What was interesting, or what did you learn? A short paragraph here is fine."
   ]
  },
  {
   "cell_type": "markdown",
   "metadata": {},
   "source": [
    "`Your answer here.`"
   ]
  }
 ],
 "metadata": {
  "kernelspec": {
   "display_name": "Python 3",
   "language": "python",
   "name": "python3"
  },
  "language_info": {
   "codemirror_mode": {
    "name": "ipython",
    "version": 3
   },
   "file_extension": ".py",
   "mimetype": "text/x-python",
   "name": "python",
   "nbconvert_exporter": "python",
   "pygments_lexer": "ipython3",
   "version": "3.7.4"
  }
 },
 "nbformat": 4,
 "nbformat_minor": 5
}
