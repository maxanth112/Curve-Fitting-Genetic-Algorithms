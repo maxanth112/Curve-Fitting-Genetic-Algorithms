{
 "cells": [
  {
   "cell_type": "markdown",
   "metadata": {},
   "source": [
    "# Genetic Algorithms vs. Sumulated Annealing \n",
    "### Regression Approximation"
   ]
  },
  {
   "cell_type": "markdown",
   "metadata": {},
   "source": [
    "By Max Wiesner"
   ]
  },
  {
   "cell_type": "code",
   "execution_count": null,
   "metadata": {},
   "outputs": [],
   "source": [
    "%matplotlib inline\n",
    "from generatePlots import startAllIterations, printVizs\n",
    "\n",
    "startAllIterations(0.05, 0.05, 0.5, 5)\n",
    "printVizs()"
   ]
  },
  {
   "cell_type": "markdown",
   "metadata": {},
   "source": [
    "We will focus on the following five functions to help us analyze the performance of each algorithm.\n",
    "<ul>\n",
    "    <li>$f_1 (x) = \\frac{1}{5}e^{\\frac{x}{4}} - \\sin{2x}$</li>\n",
    "    <li>$f_2 (x) = \\sin{2x} - \\cos{3x - 1} + 2\\sin{\\frac{x}{2} + 1}$</li>\n",
    "    <li>$f_3 (x) = e^{\\sin{2x} - e^{\\cos{3x}}}$</li>\n",
    "    <li>$f_4 (x) = \\frac{1}{20}x^2 - \\frac{1}{2}x + 5\\sin{3x}$</li>\n",
    "    <li>$f_5 (x) = \\frac{1}{20}x^2 - \\frac{1}{2}\\sqrt{x} + 5\\sin{3x}$</li>\n",
    "</ul>\n",
    "Performance will also be dependant on the different categories we have manifested below. Note, the main focus of this project is on Genetic algorithms and not Sumulated Annealing, thus, we will not go in depth on analyzing the changes in performance that come with varying the temperature, cooling rate, and step fraction. Instead, we "
   ]
  },
  {
   "cell_type": "code",
   "execution_count": null,
   "metadata": {},
   "outputs": [],
   "source": []
  },
  {
   "cell_type": "markdown",
   "metadata": {},
   "source": [
    "Write a brief analysis of your results. Some questions to answer:\n",
    "- Which problem ran the fastest? Why do you think this is the case?\n",
    "- Which problem ended with the highest fitness? Why do you think this is the case?\n",
    "- How similar were the running times across the 5 repetitions?\n",
    "- How similar were the final fitness scores across the 5 repetitions?\n",
    "- Was there anything else interesting in your results?"
   ]
  },
  {
   "cell_type": "markdown",
   "metadata": {},
   "source": [
    "`Your answer here.`"
   ]
  },
  {
   "cell_type": "markdown",
   "metadata": {},
   "source": [
    "## Describe Your Implementation and Reflect"
   ]
  },
  {
   "cell_type": "markdown",
   "metadata": {},
   "source": [
    "Some questions to answer in your write-up:\n",
    "- What was your strategy to solve this problem?\n",
    "- How did you structure your `GASolver` class?\n",
    "- What other files or methods did you change?\n",
    "- What was the most difficult part of the project?\n",
    "- What was something surprising you found?\n",
    "\n",
    "Please provide some elaboration with your answers. When describing your implementation, remember that we have not watched you solve this problem so you will need to give more details than you think is necessary."
   ]
  },
  {
   "cell_type": "markdown",
   "metadata": {},
   "source": [
    "`Your answer here.`"
   ]
  },
  {
   "cell_type": "markdown",
   "metadata": {},
   "source": [
    "## Going Above and Beyond"
   ]
  },
  {
   "cell_type": "markdown",
   "metadata": {},
   "source": [
    "Describe the extra changes you implemented. Give some details, perhaps a short paragraph for each major change."
   ]
  },
  {
   "cell_type": "markdown",
   "metadata": {},
   "source": [
    "`Your answer here.`"
   ]
  },
  {
   "cell_type": "markdown",
   "metadata": {},
   "source": [
    "Describe the analysis you did and provide your results in the form of a figure or a table."
   ]
  },
  {
   "cell_type": "markdown",
   "metadata": {},
   "source": [
    "`Your answer here.`"
   ]
  },
  {
   "cell_type": "markdown",
   "metadata": {},
   "source": [
    "Reflect on your work for this section. What was interesting, or what did you learn? A short paragraph here is fine."
   ]
  },
  {
   "cell_type": "markdown",
   "metadata": {},
   "source": [
    "`Your answer here.`"
   ]
  }
 ],
 "metadata": {
  "kernelspec": {
   "display_name": "Python 3",
   "language": "python",
   "name": "python3"
  },
  "language_info": {
   "codemirror_mode": {
    "name": "ipython",
    "version": 3
   },
   "file_extension": ".py",
   "mimetype": "text/x-python",
   "name": "python",
   "nbconvert_exporter": "python",
   "pygments_lexer": "ipython3",
   "version": "3.7.4"
  }
 },
 "nbformat": 4,
 "nbformat_minor": 5
}
