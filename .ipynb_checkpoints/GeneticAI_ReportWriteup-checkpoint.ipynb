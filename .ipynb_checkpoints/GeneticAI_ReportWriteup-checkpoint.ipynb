{
 "cells": [
  {
   "cell_type": "markdown",
   "metadata": {},
   "source": [
    "## Curve Fitting with Genetic Algorithms \n",
    "By Max Wiesner\n",
    "<br>\n",
    "<br>\n",
    "### Summary\n",
    "In this project we will look at how genetic algorithms can use evolutionary search to mutate a number of generations to find a regression curve estination. We will compare our results to the sumulated annealing algorithm, and look at the overall fitness acheived through both methods, and the run time differences between the two. \n",
    "<br>\n",
    "We will apply these tequniques to estimate the following five functions.\n",
    "<ul>\n",
    "    <li>$f_1 (x) = \\frac{1}{5}e^{\\frac{x}{4}} - \\sin{2x}$</li>\n",
    "    <li>$f_2 (x) = \\sin{2x} - \\cos{3x - 1} + 2\\sin{\\frac{x}{2} + 1}$</li>\n",
    "    <li>$f_3 (x) = e^{\\sin{2x} - e^{\\cos{3x}}}$</li>\n",
    "    <li>$f_4 (x) = \\frac{1}{20}x^2 - \\frac{1}{2}x + 5\\sin{3x}$</li>\n",
    "    <li>$f_5 (x) = \\frac{1}{20}x^2 - \\frac{1}{2}\\sqrt{x} + 5\\sin{3x}$</li>\n",
    "</ul>\n",
    "Performance will also be dependant on the different inputs to each algorithm we have manifest below. Note, the main focus of this project is the genetic algorithm and evolutionary search, not the sumulated annealing algorithm, thus, we will not go in depth on analyzing the changes in performance that come with varying the temperature, cooling rate, and cooling step fraction. Instead, we will vary two parameters that both these functions share (in a sense). \n",
    "<ul>\n",
    "    <li> Iterations - The number of iterations each algorithm will run, with the genetic algorithm this is the number of generations it will mutate and breed; with the simulated annealing, this is the number of times we pick a random neighbor that potentially replaced our current best answer.</li>\n",
    "    <li> Population - Population is the number of new candidates we produce or hold on to in each iteration. So, for the genetic algorithm, this is clearly the population; ie. in each iteration, we either update the current population, or we reorder it and reevaluate the current fitness of the population. For the simulated annealing, this is the number of new neighbors we produce from our current best state. </li>\n",
    "    <li><i>Optional Parameters</i> - The number of points we are estimating against, the total number of tests to be run for each function per each (Iterations, Instances) combination. We will not focus on these in the analysis. </li>\n",
    "<\\ul>\n",
    "Below we see the call to startAllIterations, it takes the following arguments:\n",
    "<div align=\"center\"><br>$startAllIterations(iterations, instances, points, numTests)$<br></div>\n",
    "    <br>\n",
    "The different combinations of iterations, population for each test and algorithm has already been picked out, and will be highlighted in the results summary below. The reason for the parameters below are for accomodating available CPU performance; ie. if you are confident in your super fast new MacBook Pro with the M1 chip, then put iterations = population = 1, 100%. This will run the intended amount of each combination. But if you are repping the google chromebook, then you may put iterations = population = .25, 25%. This will still run all of the intended combinations, but adjust the totals proportionally to the percentages entered, since running the full intended amount, 100%, might take some hours.  \n",
    "<br>\n",
    "<br>\n",
    "A progress bar will update as tests are completed. \n",
    "<br>\n",
    "<br>"
   ]
  },
  {
   "cell_type": "markdown",
   "metadata": {},
   "source": [
    "### Results"
   ]
  },
  {
   "cell_type": "code",
   "execution_count": 1,
   "metadata": {},
   "outputs": [
    {
     "name": "stdout",
     "output_type": "stream",
     "text": [
      "[[[], [], []], [[], [], []]]\n"
     ]
    },
    {
     "name": "stderr",
     "output_type": "stream",
     "text": [
      " 22%|██▏       | 33/150 [00:17<01:06,  1.75it/s]C:\\Users\\maxan\\CSCI\\CSCI_3202\\genetic_ai\\symbolicExpressions.py:176: RuntimeWarning: overflow encountered in double_scalars\n",
      "  return reduce(lambda a,b:a*b, flist, 1.0 )\n",
      "100%|██████████| 150/150 [01:03<00:00,  2.36it/s]\n"
     ]
    },
    {
     "name": "stdout",
     "output_type": "stream",
     "text": [
      "[[[-2287.7635889875123, -1389.4522648965433, -1574.1404466026438, -1373.7131175139086, -1949.0581501960573], [-1748.193656941487, -1307.4077598955573, -1719.8864786458519, -2141.065457213779, -1914.8543797687896], [-2625.5323933089553, -1989.7881171150339, -2025.5072880429466, -2733.147814199074, -840.9726278405417]], [[-3352.718686765829, -1908.2490573191376, -12213.46711549745, -10370.082712489566, -2409.313731561988], [-31102.31225024688, -2212.4054512241364, -11953.911963450668, -2755.4289240781663, -2745.4539494791443], [-2394.9277083620345, -2152.666366014986, -2809.909314781424, -2985.0079231395634, -2445.98968916422]]]\n",
      "\n",
      "\n"
     ]
    },
    {
     "data": {
      "text/html": [
       "<style  type=\"text/css\" >\n",
       "    #T_498fd8b6_8743_11eb_bfe3_2816a86e46cb caption {\n",
       "          color: blue;\n",
       "          font-size: 18px;\n",
       "    }    #T_498fd8b6_8743_11eb_bfe3_2816a86e46cbrow0_col2 {\n",
       "            background-color:  lightgreen;\n",
       "        }    #T_498fd8b6_8743_11eb_bfe3_2816a86e46cbrow0_col6 {\n",
       "            background-color:  lightblue;\n",
       "        }    #T_498fd8b6_8743_11eb_bfe3_2816a86e46cbrow1_col0 {\n",
       "            background-color:  lightgreen;\n",
       "        }    #T_498fd8b6_8743_11eb_bfe3_2816a86e46cbrow1_col4 {\n",
       "            background-color:  lightgreen;\n",
       "        }    #T_498fd8b6_8743_11eb_bfe3_2816a86e46cbrow2_col1 {\n",
       "            background-color:  lightgreen;\n",
       "        }    #T_498fd8b6_8743_11eb_bfe3_2816a86e46cbrow2_col3 {\n",
       "            background-color:  lightgreen;\n",
       "        }    #T_498fd8b6_8743_11eb_bfe3_2816a86e46cbrow2_col5 {\n",
       "            background-color:  lightblue;\n",
       "        }    #T_498fd8b6_8743_11eb_bfe3_2816a86e46cbrow3_col0 {\n",
       "            background-color:  lightblue;\n",
       "        }    #T_498fd8b6_8743_11eb_bfe3_2816a86e46cbrow3_col5 {\n",
       "            background-color:  #ffcccb;\n",
       "        }    #T_498fd8b6_8743_11eb_bfe3_2816a86e46cbrow4_col2 {\n",
       "            background-color:  lightblue;\n",
       "        }    #T_498fd8b6_8743_11eb_bfe3_2816a86e46cbrow4_col6 {\n",
       "            background-color:  #ffcccb;\n",
       "        }</style><table id=\"T_498fd8b6_8743_11eb_bfe3_2816a86e46cb\" style='display:inline'><caption>Genetic Algorithm - Regression Estimation</caption><thead>    <tr>        <th class=\"blank level0\" ></th>        <th class=\"col_heading level0 col0\" >Function 1</th>        <th class=\"col_heading level0 col1\" >Function 2</th>        <th class=\"col_heading level0 col2\" >Function 3</th>        <th class=\"col_heading level0 col3\" >Function 4</th>        <th class=\"col_heading level0 col4\" >Function 5</th>        <th class=\"col_heading level0 col5\" >Fitness Avg by Criteria</th>        <th class=\"col_heading level0 col6\" >Run Time Avg by Criteria</th>    </tr>    <tr>        <th class=\"index_name level0\" >Criteria: Num of Iterations, Population Size</th>        <th class=\"blank\" ></th>        <th class=\"blank\" ></th>        <th class=\"blank\" ></th>        <th class=\"blank\" ></th>        <th class=\"blank\" ></th>        <th class=\"blank\" ></th>        <th class=\"blank\" ></th>    </tr></thead><tbody>\n",
       "                <tr>\n",
       "                        <th id=\"T_498fd8b6_8743_11eb_bfe3_2816a86e46cblevel0_row0\" class=\"row_heading level0 row0\" >500, 2</th>\n",
       "                        <td id=\"T_498fd8b6_8743_11eb_bfe3_2816a86e46cbrow0_col0\" class=\"data row0 col0\" >-8.73413</td>\n",
       "                        <td id=\"T_498fd8b6_8743_11eb_bfe3_2816a86e46cbrow0_col1\" class=\"data row0 col1\" >-72.5679</td>\n",
       "                        <td id=\"T_498fd8b6_8743_11eb_bfe3_2816a86e46cbrow0_col2\" class=\"data row0 col2\" >-32.7145</td>\n",
       "                        <td id=\"T_498fd8b6_8743_11eb_bfe3_2816a86e46cbrow0_col3\" class=\"data row0 col3\" >-1373.71</td>\n",
       "                        <td id=\"T_498fd8b6_8743_11eb_bfe3_2816a86e46cbrow0_col4\" class=\"data row0 col4\" >-333.652</td>\n",
       "                        <td id=\"T_498fd8b6_8743_11eb_bfe3_2816a86e46cbrow0_col5\" class=\"data row0 col5\" >-364.276</td>\n",
       "                        <td id=\"T_498fd8b6_8743_11eb_bfe3_2816a86e46cbrow0_col6\" class=\"data row0 col6\" >1.18569</td>\n",
       "            </tr>\n",
       "            <tr>\n",
       "                        <th id=\"T_498fd8b6_8743_11eb_bfe3_2816a86e46cblevel0_row1\" class=\"row_heading level0 row1\" >250, 4</th>\n",
       "                        <td id=\"T_498fd8b6_8743_11eb_bfe3_2816a86e46cbrow1_col0\" class=\"data row1 col0\" >-5.64397</td>\n",
       "                        <td id=\"T_498fd8b6_8743_11eb_bfe3_2816a86e46cbrow1_col1\" class=\"data row1 col1\" >-64.6729</td>\n",
       "                        <td id=\"T_498fd8b6_8743_11eb_bfe3_2816a86e46cbrow1_col2\" class=\"data row1 col2\" >-34.4648</td>\n",
       "                        <td id=\"T_498fd8b6_8743_11eb_bfe3_2816a86e46cbrow1_col3\" class=\"data row1 col3\" >-1307.41</td>\n",
       "                        <td id=\"T_498fd8b6_8743_11eb_bfe3_2816a86e46cbrow1_col4\" class=\"data row1 col4\" >-315.081</td>\n",
       "                        <td id=\"T_498fd8b6_8743_11eb_bfe3_2816a86e46cbrow1_col5\" class=\"data row1 col5\" >-345.454</td>\n",
       "                        <td id=\"T_498fd8b6_8743_11eb_bfe3_2816a86e46cbrow1_col6\" class=\"data row1 col6\" >0.776881</td>\n",
       "            </tr>\n",
       "            <tr>\n",
       "                        <th id=\"T_498fd8b6_8743_11eb_bfe3_2816a86e46cblevel0_row2\" class=\"row_heading level0 row2\" >125, 8</th>\n",
       "                        <td id=\"T_498fd8b6_8743_11eb_bfe3_2816a86e46cbrow2_col0\" class=\"data row2 col0\" >-12.7605</td>\n",
       "                        <td id=\"T_498fd8b6_8743_11eb_bfe3_2816a86e46cbrow2_col1\" class=\"data row2 col1\" >-60.2408</td>\n",
       "                        <td id=\"T_498fd8b6_8743_11eb_bfe3_2816a86e46cbrow2_col2\" class=\"data row2 col2\" >-40.9904</td>\n",
       "                        <td id=\"T_498fd8b6_8743_11eb_bfe3_2816a86e46cbrow2_col3\" class=\"data row2 col3\" >-840.973</td>\n",
       "                        <td id=\"T_498fd8b6_8743_11eb_bfe3_2816a86e46cbrow2_col4\" class=\"data row2 col4\" >-356.546</td>\n",
       "                        <td id=\"T_498fd8b6_8743_11eb_bfe3_2816a86e46cbrow2_col5\" class=\"data row2 col5\" >-262.302</td>\n",
       "                        <td id=\"T_498fd8b6_8743_11eb_bfe3_2816a86e46cbrow2_col6\" class=\"data row2 col6\" >0.492569</td>\n",
       "            </tr>\n",
       "            <tr>\n",
       "                        <th id=\"T_498fd8b6_8743_11eb_bfe3_2816a86e46cblevel0_row3\" class=\"row_heading level0 row3\" >Fitness Avg by Function</th>\n",
       "                        <td id=\"T_498fd8b6_8743_11eb_bfe3_2816a86e46cbrow3_col0\" class=\"data row3 col0\" >-9.0462</td>\n",
       "                        <td id=\"T_498fd8b6_8743_11eb_bfe3_2816a86e46cbrow3_col1\" class=\"data row3 col1\" >-65.8272</td>\n",
       "                        <td id=\"T_498fd8b6_8743_11eb_bfe3_2816a86e46cbrow3_col2\" class=\"data row3 col2\" >-36.0566</td>\n",
       "                        <td id=\"T_498fd8b6_8743_11eb_bfe3_2816a86e46cbrow3_col3\" class=\"data row3 col3\" >-1174.03</td>\n",
       "                        <td id=\"T_498fd8b6_8743_11eb_bfe3_2816a86e46cbrow3_col4\" class=\"data row3 col4\" >-335.093</td>\n",
       "                        <td id=\"T_498fd8b6_8743_11eb_bfe3_2816a86e46cbrow3_col5\" class=\"data row3 col5\" >-324.011</td>\n",
       "                        <td id=\"T_498fd8b6_8743_11eb_bfe3_2816a86e46cbrow3_col6\" class=\"data row3 col6\" >nan</td>\n",
       "            </tr>\n",
       "            <tr>\n",
       "                        <th id=\"T_498fd8b6_8743_11eb_bfe3_2816a86e46cblevel0_row4\" class=\"row_heading level0 row4\" >Run Time Avg by Function</th>\n",
       "                        <td id=\"T_498fd8b6_8743_11eb_bfe3_2816a86e46cbrow4_col0\" class=\"data row4 col0\" >0.784093</td>\n",
       "                        <td id=\"T_498fd8b6_8743_11eb_bfe3_2816a86e46cbrow4_col1\" class=\"data row4 col1\" >0.891045</td>\n",
       "                        <td id=\"T_498fd8b6_8743_11eb_bfe3_2816a86e46cbrow4_col2\" class=\"data row4 col2\" >1.00789</td>\n",
       "                        <td id=\"T_498fd8b6_8743_11eb_bfe3_2816a86e46cbrow4_col3\" class=\"data row4 col3\" >0.888533</td>\n",
       "                        <td id=\"T_498fd8b6_8743_11eb_bfe3_2816a86e46cbrow4_col4\" class=\"data row4 col4\" >0.52034</td>\n",
       "                        <td id=\"T_498fd8b6_8743_11eb_bfe3_2816a86e46cbrow4_col5\" class=\"data row4 col5\" >nan</td>\n",
       "                        <td id=\"T_498fd8b6_8743_11eb_bfe3_2816a86e46cbrow4_col6\" class=\"data row4 col6\" >0.81838</td>\n",
       "            </tr>\n",
       "    </tbody></table>"
      ],
      "text/plain": [
       "<pandas.io.formats.style.Styler at 0x24654b39048>"
      ]
     },
     "metadata": {},
     "output_type": "display_data"
    },
    {
     "name": "stdout",
     "output_type": "stream",
     "text": [
      "\n",
      "\n"
     ]
    },
    {
     "data": {
      "text/html": [
       "<style  type=\"text/css\" >\n",
       "    #T_49957e24_8743_11eb_a8d3_2816a86e46cb caption {\n",
       "          color: blue;\n",
       "          font-size: 18px;\n",
       "    }    #T_49957e24_8743_11eb_a8d3_2816a86e46cbrow0_col1 {\n",
       "            background-color:  lightgreen;\n",
       "        }    #T_49957e24_8743_11eb_a8d3_2816a86e46cbrow0_col2 {\n",
       "            background-color:  lightgreen;\n",
       "        }    #T_49957e24_8743_11eb_a8d3_2816a86e46cbrow0_col3 {\n",
       "            background-color:  lightgreen;\n",
       "        }    #T_49957e24_8743_11eb_a8d3_2816a86e46cbrow0_col5 {\n",
       "            background-color:  lightblue;\n",
       "        }    #T_49957e24_8743_11eb_a8d3_2816a86e46cbrow0_col6 {\n",
       "            background-color:  lightblue;\n",
       "        }    #T_49957e24_8743_11eb_a8d3_2816a86e46cbrow2_col0 {\n",
       "            background-color:  lightgreen;\n",
       "        }    #T_49957e24_8743_11eb_a8d3_2816a86e46cbrow2_col4 {\n",
       "            background-color:  lightgreen;\n",
       "        }    #T_49957e24_8743_11eb_a8d3_2816a86e46cbrow3_col0 {\n",
       "            background-color:  lightblue;\n",
       "        }    #T_49957e24_8743_11eb_a8d3_2816a86e46cbrow3_col5 {\n",
       "            background-color:  #ffcccb;\n",
       "        }    #T_49957e24_8743_11eb_a8d3_2816a86e46cbrow4_col3 {\n",
       "            background-color:  lightblue;\n",
       "        }    #T_49957e24_8743_11eb_a8d3_2816a86e46cbrow4_col6 {\n",
       "            background-color:  #ffcccb;\n",
       "        }</style><table id=\"T_49957e24_8743_11eb_a8d3_2816a86e46cb\" style='display:inline'><caption>Simulated Annealing Algorithm - Regression Estimation</caption><thead>    <tr>        <th class=\"blank level0\" ></th>        <th class=\"col_heading level0 col0\" >Function 1</th>        <th class=\"col_heading level0 col1\" >Function 2</th>        <th class=\"col_heading level0 col2\" >Function 3</th>        <th class=\"col_heading level0 col3\" >Function 4</th>        <th class=\"col_heading level0 col4\" >Function 5</th>        <th class=\"col_heading level0 col5\" >Fitness Avg by Criteria</th>        <th class=\"col_heading level0 col6\" >Run Time Avg by Criteria</th>    </tr>    <tr>        <th class=\"index_name level0\" >Criteria: Num of Iterations, Population Size</th>        <th class=\"blank\" ></th>        <th class=\"blank\" ></th>        <th class=\"blank\" ></th>        <th class=\"blank\" ></th>        <th class=\"blank\" ></th>        <th class=\"blank\" ></th>        <th class=\"blank\" ></th>    </tr></thead><tbody>\n",
       "                <tr>\n",
       "                        <th id=\"T_49957e24_8743_11eb_a8d3_2816a86e46cblevel0_row0\" class=\"row_heading level0 row0\" >500, 2</th>\n",
       "                        <td id=\"T_49957e24_8743_11eb_a8d3_2816a86e46cbrow0_col0\" class=\"data row0 col0\" >-38.7053</td>\n",
       "                        <td id=\"T_49957e24_8743_11eb_a8d3_2816a86e46cbrow0_col1\" class=\"data row0 col1\" >-147.527</td>\n",
       "                        <td id=\"T_49957e24_8743_11eb_a8d3_2816a86e46cbrow0_col2\" class=\"data row0 col2\" >-66.2884</td>\n",
       "                        <td id=\"T_49957e24_8743_11eb_a8d3_2816a86e46cbrow0_col3\" class=\"data row0 col3\" >-1908.25</td>\n",
       "                        <td id=\"T_49957e24_8743_11eb_a8d3_2816a86e46cbrow0_col4\" class=\"data row0 col4\" >-585.731</td>\n",
       "                        <td id=\"T_49957e24_8743_11eb_a8d3_2816a86e46cbrow0_col5\" class=\"data row0 col5\" >-549.3</td>\n",
       "                        <td id=\"T_49957e24_8743_11eb_a8d3_2816a86e46cbrow0_col6\" class=\"data row0 col6\" >0.0420401</td>\n",
       "            </tr>\n",
       "            <tr>\n",
       "                        <th id=\"T_49957e24_8743_11eb_a8d3_2816a86e46cblevel0_row1\" class=\"row_heading level0 row1\" >250, 4</th>\n",
       "                        <td id=\"T_49957e24_8743_11eb_a8d3_2816a86e46cbrow1_col0\" class=\"data row1 col0\" >-24.4695</td>\n",
       "                        <td id=\"T_49957e24_8743_11eb_a8d3_2816a86e46cbrow1_col1\" class=\"data row1 col1\" >-181.334</td>\n",
       "                        <td id=\"T_49957e24_8743_11eb_a8d3_2816a86e46cbrow1_col2\" class=\"data row1 col2\" >-86.4275</td>\n",
       "                        <td id=\"T_49957e24_8743_11eb_a8d3_2816a86e46cbrow1_col3\" class=\"data row1 col3\" >-2212.41</td>\n",
       "                        <td id=\"T_49957e24_8743_11eb_a8d3_2816a86e46cbrow1_col4\" class=\"data row1 col4\" >-644.971</td>\n",
       "                        <td id=\"T_49957e24_8743_11eb_a8d3_2816a86e46cbrow1_col5\" class=\"data row1 col5\" >-629.921</td>\n",
       "                        <td id=\"T_49957e24_8743_11eb_a8d3_2816a86e46cbrow1_col6\" class=\"data row1 col6\" >0.028149</td>\n",
       "            </tr>\n",
       "            <tr>\n",
       "                        <th id=\"T_49957e24_8743_11eb_a8d3_2816a86e46cblevel0_row2\" class=\"row_heading level0 row2\" >125, 8</th>\n",
       "                        <td id=\"T_49957e24_8743_11eb_a8d3_2816a86e46cbrow2_col0\" class=\"data row2 col0\" >-18.2263</td>\n",
       "                        <td id=\"T_49957e24_8743_11eb_a8d3_2816a86e46cbrow2_col1\" class=\"data row2 col1\" >-161.161</td>\n",
       "                        <td id=\"T_49957e24_8743_11eb_a8d3_2816a86e46cbrow2_col2\" class=\"data row2 col2\" >-72.0369</td>\n",
       "                        <td id=\"T_49957e24_8743_11eb_a8d3_2816a86e46cbrow2_col3\" class=\"data row2 col3\" >-2152.67</td>\n",
       "                        <td id=\"T_49957e24_8743_11eb_a8d3_2816a86e46cbrow2_col4\" class=\"data row2 col4\" >-353.296</td>\n",
       "                        <td id=\"T_49957e24_8743_11eb_a8d3_2816a86e46cbrow2_col5\" class=\"data row2 col5\" >-551.477</td>\n",
       "                        <td id=\"T_49957e24_8743_11eb_a8d3_2816a86e46cbrow2_col6\" class=\"data row2 col6\" >0.023152</td>\n",
       "            </tr>\n",
       "            <tr>\n",
       "                        <th id=\"T_49957e24_8743_11eb_a8d3_2816a86e46cblevel0_row3\" class=\"row_heading level0 row3\" >Fitness Avg by Function</th>\n",
       "                        <td id=\"T_49957e24_8743_11eb_a8d3_2816a86e46cbrow3_col0\" class=\"data row3 col0\" >-27.1337</td>\n",
       "                        <td id=\"T_49957e24_8743_11eb_a8d3_2816a86e46cbrow3_col1\" class=\"data row3 col1\" >-163.341</td>\n",
       "                        <td id=\"T_49957e24_8743_11eb_a8d3_2816a86e46cbrow3_col2\" class=\"data row3 col2\" >-74.9176</td>\n",
       "                        <td id=\"T_49957e24_8743_11eb_a8d3_2816a86e46cbrow3_col3\" class=\"data row3 col3\" >-2091.11</td>\n",
       "                        <td id=\"T_49957e24_8743_11eb_a8d3_2816a86e46cbrow3_col4\" class=\"data row3 col4\" >-527.999</td>\n",
       "                        <td id=\"T_49957e24_8743_11eb_a8d3_2816a86e46cbrow3_col5\" class=\"data row3 col5\" >-576.9</td>\n",
       "                        <td id=\"T_49957e24_8743_11eb_a8d3_2816a86e46cbrow3_col6\" class=\"data row3 col6\" >nan</td>\n",
       "            </tr>\n",
       "            <tr>\n",
       "                        <th id=\"T_49957e24_8743_11eb_a8d3_2816a86e46cblevel0_row4\" class=\"row_heading level0 row4\" >Run Time Avg by Function</th>\n",
       "                        <td id=\"T_49957e24_8743_11eb_a8d3_2816a86e46cbrow4_col0\" class=\"data row4 col0\" >0.0321836</td>\n",
       "                        <td id=\"T_49957e24_8743_11eb_a8d3_2816a86e46cbrow4_col1\" class=\"data row4 col1\" >0.0264227</td>\n",
       "                        <td id=\"T_49957e24_8743_11eb_a8d3_2816a86e46cbrow4_col2\" class=\"data row4 col2\" >0.0271002</td>\n",
       "                        <td id=\"T_49957e24_8743_11eb_a8d3_2816a86e46cbrow4_col3\" class=\"data row4 col3\" >0.0439972</td>\n",
       "                        <td id=\"T_49957e24_8743_11eb_a8d3_2816a86e46cbrow4_col4\" class=\"data row4 col4\" >0.0258649</td>\n",
       "                        <td id=\"T_49957e24_8743_11eb_a8d3_2816a86e46cbrow4_col5\" class=\"data row4 col5\" >nan</td>\n",
       "                        <td id=\"T_49957e24_8743_11eb_a8d3_2816a86e46cbrow4_col6\" class=\"data row4 col6\" >0.0311137</td>\n",
       "            </tr>\n",
       "    </tbody></table>"
      ],
      "text/plain": [
       "<pandas.io.formats.style.Styler at 0x24654e53ec8>"
      ]
     },
     "metadata": {},
     "output_type": "display_data"
    }
   ],
   "source": [
    "%matplotlib inline\n",
    "from generatePlots import startAllIterations, printVizs\n",
    "# run cell to generate data tables of the results \n",
    "startAllIterations(0.05, 0.05, 0.5, 5)\n",
    "printVizs()"
   ]
  },
  {
   "cell_type": "markdown",
   "metadata": {},
   "source": [
    "#### Data Table Details\n",
    "> <span style=\"color:lightgreen\">Green : </span> Best fitness per column - Function, cooresponding to the index column of iterations, population<br>\n",
    "> <span style=\"color:lightblue\">Blue : </span> Overall best performance - Highlights the column and row best performances on average.<br>\n",
    "> <span style=\"color:#ffcccb\">Red </span> Benchmark KPI for each algorithm - Shows the average fitness acheived from the overall tests with the ranging criteria. Ans the overall runtime per test against the ranging average inputs. "
   ]
  },
  {
   "cell_type": "code",
   "execution_count": 2,
   "metadata": {},
   "outputs": [
    {
     "data": {
      "text/html": [
       "<div>\n",
       "<style scoped>\n",
       "    .dataframe tbody tr th:only-of-type {\n",
       "        vertical-align: middle;\n",
       "    }\n",
       "\n",
       "    .dataframe tbody tr th {\n",
       "        vertical-align: top;\n",
       "    }\n",
       "\n",
       "    .dataframe thead th {\n",
       "        text-align: right;\n",
       "    }\n",
       "</style>\n",
       "<table border=\"1\" class=\"dataframe\">\n",
       "  <thead>\n",
       "    <tr style=\"text-align: right;\">\n",
       "      <th></th>\n",
       "      <th>Test 1</th>\n",
       "      <th>Test 2</th>\n",
       "      <th>Test 3</th>\n",
       "      <th>Test 4</th>\n",
       "      <th>Test 5</th>\n",
       "      <th>Mean</th>\n",
       "      <th>Std Dev</th>\n",
       "      <th>Variance</th>\n",
       "    </tr>\n",
       "    <tr>\n",
       "      <th>Criteria: Num of Iterations, Population Size</th>\n",
       "      <th></th>\n",
       "      <th></th>\n",
       "      <th></th>\n",
       "      <th></th>\n",
       "      <th></th>\n",
       "      <th></th>\n",
       "      <th></th>\n",
       "      <th></th>\n",
       "    </tr>\n",
       "  </thead>\n",
       "  <tbody>\n",
       "    <tr>\n",
       "      <td>500, 2</td>\n",
       "      <td>-2,287.764</td>\n",
       "      <td>-1,389.452</td>\n",
       "      <td>-1,574.140</td>\n",
       "      <td>-1,373.713</td>\n",
       "      <td>-1,949.058</td>\n",
       "      <td>-1,714.826</td>\n",
       "      <td>353.593</td>\n",
       "      <td>715,383.809</td>\n",
       "    </tr>\n",
       "    <tr>\n",
       "      <td>250, 4</td>\n",
       "      <td>-1,748.194</td>\n",
       "      <td>-1,307.408</td>\n",
       "      <td>-1,719.886</td>\n",
       "      <td>-2,141.065</td>\n",
       "      <td>-1,914.854</td>\n",
       "      <td>-1,766.282</td>\n",
       "      <td>274.074</td>\n",
       "      <td>657,318.252</td>\n",
       "    </tr>\n",
       "    <tr>\n",
       "      <td>125, 8</td>\n",
       "      <td>-2,625.532</td>\n",
       "      <td>-1,989.788</td>\n",
       "      <td>-2,025.507</td>\n",
       "      <td>-2,733.148</td>\n",
       "      <td>-840.973</td>\n",
       "      <td>-2,042.990</td>\n",
       "      <td>672.853</td>\n",
       "      <td>1,430,961.724</td>\n",
       "    </tr>\n",
       "  </tbody>\n",
       "</table>\n",
       "</div>"
      ],
      "text/plain": [
       "                                                 Test 1     Test 2     Test 3  \\\n",
       "Criteria: Num of Iterations, Population Size                                    \n",
       "500, 2                                       -2,287.764 -1,389.452 -1,574.140   \n",
       "250, 4                                       -1,748.194 -1,307.408 -1,719.886   \n",
       "125, 8                                       -2,625.532 -1,989.788 -2,025.507   \n",
       "\n",
       "                                                 Test 4     Test 5       Mean  \\\n",
       "Criteria: Num of Iterations, Population Size                                    \n",
       "500, 2                                       -1,373.713 -1,949.058 -1,714.826   \n",
       "250, 4                                       -2,141.065 -1,914.854 -1,766.282   \n",
       "125, 8                                       -2,733.148   -840.973 -2,042.990   \n",
       "\n",
       "                                              Std Dev      Variance  \n",
       "Criteria: Num of Iterations, Population Size                         \n",
       "500, 2                                        353.593   715,383.809  \n",
       "250, 4                                        274.074   657,318.252  \n",
       "125, 8                                        672.853 1,430,961.724  "
      ]
     },
     "metadata": {},
     "output_type": "display_data"
    }
   ],
   "source": [
    "\n",
    "# from generatePlots import best_per_run_test4, GA_criteria, highlight_last_max\n",
    "# import numpy as np\n",
    "# import pandas as pd\n",
    "\n",
    "# from IPython.display import display, HTML\n",
    "\n",
    "# names = ['Genetic Algorithm', 'Simulated Annealing Algorithm']\n",
    "\n",
    "# def createSingleTestDF():\n",
    "#     dfs = [None]*2\n",
    "#     for ind in range(len(names)):\n",
    "        \n",
    "#         df = pd.DataFrame(np.array([best_per_run_test4[0][i] for i in range(len(GA_criteria))]), \n",
    "#                      index = [f'{crit[0]}, {crit[1]}' for crit in GA_criteria],\n",
    "#                      columns = [f'Test {i}' for i in range(1, 6)])\n",
    "        \n",
    "#         df.loc[:,'Mean'] = df.mean(numeric_only=True, axis=1)\n",
    "#         df.loc[:,'Std Dev'] = df.std(numeric_only=True, axis=1)\n",
    "#         df.loc[:,'Variance'] = df.var(numeric_only=True, axis=1)\n",
    "#         df = df.rename_axis('Criteria: Num of Iterations, Population Size')\n",
    "        \n",
    "#         css = \"\"\"\n",
    "#             .output {\n",
    "#                 flex-direction: row;\n",
    "#             }\n",
    "#         \"\"\"\n",
    "#         HTML('<style>{}</style>'.format(css))\n",
    "        \n",
    "#         df.style.apply(highlight_last_max, subset = pd.IndexSlice[[f'{crit[0]}, {crit[1]}' for crit in GA_criteria], \\\n",
    "#                                                                   [f'Test {i}' for i in range(1, 6)]], axis = 1) \\\n",
    "#             .set_table_attributes(\"style='display:inline'\") \\\n",
    "#             .set_caption(f'{names[ind]} - Best Fitness per Test : Function 4') \\\n",
    "#             .set_table_styles([{'selector': 'caption', 'props': [('color', 'blue'), ('font-size', '18px')]}]) \\\n",
    "#             .apply(highlight_last_max, subset = pd.IndexSlice[[f'{crit[0]}, {crit[1]}' for crit in GA_criteria], \\\n",
    "#                                             [f'Test {i}' for i in range(1, 6)]], axis = 1, colormaxlast = 'lightblue') \n",
    "#         dfs[ind] = df\n",
    "# #         display(df)\n",
    "#     return dfs\n",
    "\n",
    "    \n",
    "    \n",
    "# dfs = createSingleTestDF()\n",
    "# display(dfs[0])\n",
    "\n",
    "printVizs(1)"
   ]
  },
  {
   "cell_type": "markdown",
   "metadata": {},
   "source": [
    "Write a brief analysis of your results. Some questions to answer:\n",
    "- Which problem ran the fastest? Why do you think this is the case?\n",
    "- Which problem ended with the highest fitness? Why do you think this is the case?\n",
    "- How similar were the running times across the 5 repetitions?\n",
    "- How similar were the final fitness scores across the 5 repetitions?\n",
    "- Was there anything else interesting in your results?"
   ]
  },
  {
   "cell_type": "markdown",
   "metadata": {},
   "source": [
    "`Your answer here.`"
   ]
  },
  {
   "cell_type": "markdown",
   "metadata": {},
   "source": [
    "## Describe Your Implementation and Reflect"
   ]
  },
  {
   "cell_type": "markdown",
   "metadata": {},
   "source": [
    "Some questions to answer in your write-up:\n",
    "- What was your strategy to solve this problem?\n",
    "- How did you structure your `GASolver` class?\n",
    "- What other files or methods did you change?\n",
    "- What was the most difficult part of the project?\n",
    "- What was something surprising you found?\n",
    "\n",
    "Please provide some elaboration with your answers. When describing your implementation, remember that we have not watched you solve this problem so you will need to give more details than you think is necessary."
   ]
  },
  {
   "cell_type": "markdown",
   "metadata": {},
   "source": [
    "### Implementation\n",
    "The strategy for this algorithm was "
   ]
  },
  {
   "cell_type": "markdown",
   "metadata": {},
   "source": [
    "## Going Above and Beyond"
   ]
  },
  {
   "cell_type": "markdown",
   "metadata": {},
   "source": [
    "Describe the extra changes you implemented. Give some details, perhaps a short paragraph for each major change."
   ]
  },
  {
   "cell_type": "markdown",
   "metadata": {},
   "source": [
    "`Your answer here.`"
   ]
  },
  {
   "cell_type": "markdown",
   "metadata": {},
   "source": [
    "Describe the analysis you did and provide your results in the form of a figure or a table."
   ]
  },
  {
   "cell_type": "markdown",
   "metadata": {},
   "source": [
    "`Your answer here.`"
   ]
  },
  {
   "cell_type": "markdown",
   "metadata": {},
   "source": [
    "Reflect on your work for this section. What was interesting, or what did you learn? A short paragraph here is fine."
   ]
  },
  {
   "cell_type": "markdown",
   "metadata": {},
   "source": [
    "`Your answer here.`"
   ]
  }
 ],
 "metadata": {
  "kernelspec": {
   "display_name": "Python 3",
   "language": "python",
   "name": "python3"
  },
  "language_info": {
   "codemirror_mode": {
    "name": "ipython",
    "version": 3
   },
   "file_extension": ".py",
   "mimetype": "text/x-python",
   "name": "python",
   "nbconvert_exporter": "python",
   "pygments_lexer": "ipython3",
   "version": "3.7.4"
  }
 },
 "nbformat": 4,
 "nbformat_minor": 5
}
